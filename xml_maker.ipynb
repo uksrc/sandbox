{
 "cells": [
  {
   "cell_type": "code",
   "execution_count": 28,
   "id": "50a88019",
   "metadata": {},
   "outputs": [],
   "source": [
    "from __future__ import (absolute_import, division, print_function,\n",
    "                    unicode_literals)\n",
    "import os\n",
    "from datetime import datetime\n",
    "import sys\n",
    "\n",
    "from caom2 import SimpleObservation, Plane, Artifact, Part, Chunk,\\\n",
    "                  TypedOrderedDict, ObservationWriter, ProductType, \\\n",
    "                  ReleaseType, TypedList, Target, TargetPosition, \\\n",
    "                  TargetType, ObservationIntentType, Instrument, \\\n",
    "                  Telescope, Environment, DataProductType, Provenance, \\\n",
    "                  CalibrationLevel, Metrics, Proposal, Point, Slice, Axis,\\\n",
    "                  ObservableAxis, CoordAxis1D, CoordAxis2D, SpatialWCS,\\\n",
    "                  SpectralWCS, EnergyTransition, TemporalWCS, CoordFunction1D,\\\n",
    "                  RefCoord, PolarizationWCS\n",
    "\n",
    "from checksumdir import dirhash\n",
    "import casatools\n",
    "import numpy\n",
    "\n",
    "msmd = casatools.msmetadata()\n",
    "ms = casatools.ms()\n",
    "\n"
   ]
  },
  {
   "cell_type": "code",
   "execution_count": 13,
   "id": "0a56e4b0",
   "metadata": {},
   "outputs": [],
   "source": [
    "ms_file = '/home/h14471mj/e-merlin/casa6_docker/prod/TS8004_C_001_20190801/TS8004_C_001_20190801_avg.ms/'"
   ]
  },
  {
   "cell_type": "code",
   "execution_count": 4,
   "id": "aa70cc67",
   "metadata": {},
   "outputs": [],
   "source": [
    "def basename(name):\n",
    "    base_name = os.path.dirname(name).split('/')[-1]\n",
    "    return base_name"
   ]
  },
  {
   "cell_type": "code",
   "execution_count": 6,
   "id": "21099e6b",
   "metadata": {},
   "outputs": [],
   "source": [
    "def find_mssources(ms_file):\n",
    "    # Get list of sources from measurement set\n",
    "    # To do: discern target and calibrators for CAOM Observation.targetName\n",
    "    msmd.open(ms_file)\n",
    "    mssources = ','.join(numpy.sort(msmd.fieldnames()))\n",
    "    #mssources = msmd.fieldnames()\n",
    "    msmd.done()\n",
    "    # logger.debug('Sources in MS {0}: {1}'.format(msfile, mssources))\n",
    "    return mssources"
   ]
  },
  {
   "cell_type": "code",
   "execution_count": 7,
   "id": "4873e36e",
   "metadata": {},
   "outputs": [],
   "source": [
    "def get_obs_name(ms_file):\n",
    "    msmd.open(ms_file)\n",
    "    obs_name = msmd.observatorynames()\n",
    "    msmd.done()\n",
    "    return obs_name[0]"
   ]
  },
  {
   "cell_type": "code",
   "execution_count": 25,
   "id": "acf98a01",
   "metadata": {},
   "outputs": [],
   "source": [
    "def get_size(start_path = '.'):\n",
    "    total_size = 0\n",
    "    for dirpath, dirnames, filenames in os.walk(start_path):\n",
    "        for f in filenames:\n",
    "            fp = os.path.join(dirpath, f)\n",
    "            # skip if it is symbolic link\n",
    "            if not os.path.islink(fp):\n",
    "                total_size += os.path.getsize(fp)\n",
    "\n",
    "    return total_size\n",
    "\n"
   ]
  },
  {
   "cell_type": "code",
   "execution_count": 30,
   "id": "42a46888",
   "metadata": {},
   "outputs": [],
   "source": [
    "class FileInfo:\n",
    "    \"\"\"\n",
    "    Container for the metadata of a file:\n",
    "        - ID\n",
    "        - size\n",
    "        - name\n",
    "        - md5sum\n",
    "        - file_type\n",
    "        - encoding\n",
    "    \"\"\"\n",
    "    def __init__(self, id, size=None, name=None, md5sum=None, lastmod=None,\n",
    "                 file_type=None, encoding=None):\n",
    "        if not id:\n",
    "            raise AttributeError(\n",
    "                'ID of the file in Storage Inventory is required')\n",
    "        self.id = id\n",
    "        self.size = size\n",
    "        self.name = name\n",
    "        self.md5sum = md5sum\n",
    "        self.lastmod = lastmod\n",
    "        self.file_type = file_type\n",
    "        self.encoding = encoding\n",
    "\n",
    "    def __str__(self):\n",
    "        return (\n",
    "            'id={}, name={}, size={}, type={}, encoding={}, last modified={}, '\n",
    "            'md5sum={}'.format(self.id, self.name, self.size, self.file_type,\n",
    "                               self.encoding, date2ivoa(self.lastmod),\n",
    "                               self.md5sum))"
   ]
  },
  {
   "cell_type": "code",
   "execution_count": 26,
   "id": "8255527e",
   "metadata": {},
   "outputs": [],
   "source": [
    "def get_file_type(fqn):\n",
    "    \"\"\"Basic header extension to content_type lookup.\"\"\"\n",
    "    lower_fqn = fqn.lower()\n",
    "    if os.path.isdir(fqn):\n",
    "        return 'application/measurement-set'\n",
    "    elif lower_fqn.endswith('.fits') or lower_fqn.endswith('.fits.fz') or lower_fqn.endswith('.fits.bz2'):\n",
    "        return 'application/fits'\n",
    "    elif lower_fqn.endswith('.gif'):\n",
    "        return 'image/gif'\n",
    "    elif lower_fqn.endswith('.png'):\n",
    "        return 'image/png'\n",
    "    elif lower_fqn.endswith('.jpg'):\n",
    "        return 'image/jpeg'\n",
    "    elif lower_fqn.endswith('.tar.gz'):\n",
    "        return 'application/x-tar'\n",
    "    elif lower_fqn.endswith('.csv'):\n",
    "        return 'text/csv'\n",
    "    elif lower_fqn.endswith('.hdf5') or fqn.endswith('.h5'):\n",
    "        return 'application/x-hdf5'\n",
    "    else:\n",
    "        return 'text/plain'"
   ]
  },
  {
   "cell_type": "code",
   "execution_count": 8,
   "id": "908d6853",
   "metadata": {},
   "outputs": [],
   "source": [
    "def get_local_file_info(fqn):\n",
    "    \"\"\"\n",
    "    Gets descriptive metadata for a directory of measurement set files on disk.\n",
    "    :param fqn: Fully-qualified name of the file on disk.\n",
    "    :return: FileInfo, no scheme on the md5sum value.\n",
    "    \"\"\"\n",
    "    file_type_local = get_file_type(fqn)\n",
    "\n",
    "    if file_type_local == 'application/measurement-set':\n",
    "        file_size = get_size(fqn)\n",
    "        final_hash_val = dirhash(fqn)  # very slow, may need to remove in future\n",
    "        file_id = os.path.dirname(fqn).split('/')[-1]\n",
    "\n",
    "    else:\n",
    "        file_id = os.path.basename(fqn)\n",
    "        s = os.stat(fqn)\n",
    "        file_size = s.st_size\n",
    "        hash_md5 = md5()\n",
    "        with open(fqn, 'rb') as f:\n",
    "            for chunk in iter(lambda: f.read(4096), b''):\n",
    "                hash_md5.update(chunk)\n",
    "        final_hash_val = hash_md5.hexdigest()\n",
    "\n",
    "    meta = FileInfo(\n",
    "        id=file_id,\n",
    "        size=file_size,\n",
    "        md5sum=final_hash_val,\n",
    "        file_type=file_type_local,\n",
    "    )\n",
    "    return meta\n"
   ]
  },
  {
   "cell_type": "code",
   "execution_count": 10,
   "id": "fa00cf52",
   "metadata": {},
   "outputs": [],
   "source": [
    "def get_scan_sum(ms_file):\n",
    "    ms.open(ms_file)\n",
    "    scan_sum = ms.getscansummary()\n",
    "    ms.close()\n",
    "    return scan_sum"
   ]
  },
  {
   "cell_type": "code",
   "execution_count": 23,
   "id": "2261e5e0",
   "metadata": {},
   "outputs": [],
   "source": [
    "def create_xml_from_file(ms_file):\n",
    "    \n",
    "    obs_id = basename(ms_file)\n",
    "    observation = SimpleObservation('collection', obs_id)\n",
    "    observation.obs_type = 'science'\n",
    "    observation.intent = ObservationIntentType.SCIENCE\n",
    "    \n",
    "    observation.target = Target('TBD')\n",
    "    #observation.target_position = TargetPosition(str(find_mssources(ms_file)), 'J2000')\n",
    "    \n",
    "    observation.telescope = Telescope(get_obs_name(ms_file)[0])\n",
    "    \n",
    "    observation.planes = TypedOrderedDict(Plane)\n",
    "    plane = Plane(obs_id) # use for now\n",
    "    observation.planes[obs_id] = plane\n",
    "    \n",
    "    plane.artifacts = TypedOrderedDict(Artifact)\n",
    "    artifact = Artifact('uri:foo/bar', ProductType.SCIENCE, ReleaseType.META)\n",
    "    plane.artifacts['uri:foo/bar'] = artifact\n",
    "    \n",
    "    meta_data = get_local_file_info(ms_file)\n",
    "    \n",
    "    artifact.content_type = meta_data.file_type\n",
    "    artifact.content_length = meta_data.size\n",
    "    artifact.content_checksum = meta_data.md5sum\n",
    "    \n",
    "    artifact.parts = TypedOrderedDict(Part)\n",
    "    part = Part('name')\n",
    "    artifact.parts['name'] = part\n",
    "    part.product_type = ProductType.SCIENCE\n",
    "    \n",
    "    part.chunks = TypedList(Chunk)\n",
    "    \n",
    "    ms_summary_data = get_scan_sum(ms_file)\n",
    "    \n",
    "    for key, value in ms_summary_data.items():\n",
    "        chunk_dict = value['0']\n",
    "        chunk = Chunk()\n",
    "        part.chunks.append(chunk)\n",
    "        time_axis = CoordAxis1D(Axis('MJD', 's'))\n",
    "        chunk.time = TemporalWCS(time_axis)\n",
    "        chunk.time.exposure = ms_summary_data['IntegrationTime']\n",
    "        #         chunk.time.range.start.val = meta_data['BeginTime']\n",
    "        #         chunk.time.range.end.val = meta_data['EndTime']\n",
    "    writer = ObservationWriter()\n",
    "    writer.write(observation, sys.stdout)"
   ]
  },
  {
   "cell_type": "code",
   "execution_count": 31,
   "id": "3e433aa1",
   "metadata": {},
   "outputs": [
    {
     "ename": "TypeError",
     "evalue": "Expected <class 'caom2.common.ChecksumURI'> for checksum_uri, received <class 'str'>",
     "output_type": "error",
     "traceback": [
      "\u001b[0;31m---------------------------------------------------------------------------\u001b[0m",
      "\u001b[0;31mTypeError\u001b[0m                                 Traceback (most recent call last)",
      "\u001b[0;32m<ipython-input-31-e6e950ebea13>\u001b[0m in \u001b[0;36m<module>\u001b[0;34m\u001b[0m\n\u001b[0;32m----> 1\u001b[0;31m \u001b[0mcreate_xml_from_file\u001b[0m\u001b[0;34m(\u001b[0m\u001b[0mms_file\u001b[0m\u001b[0;34m)\u001b[0m\u001b[0;34m\u001b[0m\u001b[0;34m\u001b[0m\u001b[0m\n\u001b[0m",
      "\u001b[0;32m<ipython-input-23-2493d2ad3af4>\u001b[0m in \u001b[0;36mcreate_xml_from_file\u001b[0;34m(ms_file)\u001b[0m\n\u001b[1;32m     23\u001b[0m     \u001b[0martifact\u001b[0m\u001b[0;34m.\u001b[0m\u001b[0mcontent_type\u001b[0m \u001b[0;34m=\u001b[0m \u001b[0mmeta_data\u001b[0m\u001b[0;34m.\u001b[0m\u001b[0mfile_type\u001b[0m\u001b[0;34m\u001b[0m\u001b[0;34m\u001b[0m\u001b[0m\n\u001b[1;32m     24\u001b[0m     \u001b[0martifact\u001b[0m\u001b[0;34m.\u001b[0m\u001b[0mcontent_length\u001b[0m \u001b[0;34m=\u001b[0m \u001b[0mmeta_data\u001b[0m\u001b[0;34m.\u001b[0m\u001b[0msize\u001b[0m\u001b[0;34m\u001b[0m\u001b[0;34m\u001b[0m\u001b[0m\n\u001b[0;32m---> 25\u001b[0;31m     \u001b[0martifact\u001b[0m\u001b[0;34m.\u001b[0m\u001b[0mcontent_checksum\u001b[0m \u001b[0;34m=\u001b[0m \u001b[0mmeta_data\u001b[0m\u001b[0;34m.\u001b[0m\u001b[0mmd5sum\u001b[0m\u001b[0;34m\u001b[0m\u001b[0;34m\u001b[0m\u001b[0m\n\u001b[0m\u001b[1;32m     26\u001b[0m \u001b[0;34m\u001b[0m\u001b[0m\n\u001b[1;32m     27\u001b[0m     \u001b[0martifact\u001b[0m\u001b[0;34m.\u001b[0m\u001b[0mparts\u001b[0m \u001b[0;34m=\u001b[0m \u001b[0mTypedOrderedDict\u001b[0m\u001b[0;34m(\u001b[0m\u001b[0mPart\u001b[0m\u001b[0;34m)\u001b[0m\u001b[0;34m\u001b[0m\u001b[0;34m\u001b[0m\u001b[0m\n",
      "\u001b[0;32m~/e-merlin/em_github/caom2tools/caom2/caom2/artifact.py\u001b[0m in \u001b[0;36mcontent_checksum\u001b[0;34m(self, value)\u001b[0m\n\u001b[1;32m    246\u001b[0m             \u001b[0mself\u001b[0m\u001b[0;34m.\u001b[0m\u001b[0m_content_checksum\u001b[0m \u001b[0;34m=\u001b[0m \u001b[0;32mNone\u001b[0m\u001b[0;34m\u001b[0m\u001b[0;34m\u001b[0m\u001b[0m\n\u001b[1;32m    247\u001b[0m         \u001b[0;32melse\u001b[0m\u001b[0;34m:\u001b[0m\u001b[0;34m\u001b[0m\u001b[0;34m\u001b[0m\u001b[0m\n\u001b[0;32m--> 248\u001b[0;31m             \u001b[0mcaom_util\u001b[0m\u001b[0;34m.\u001b[0m\u001b[0mtype_check\u001b[0m\u001b[0;34m(\u001b[0m\u001b[0mvalue\u001b[0m\u001b[0;34m,\u001b[0m \u001b[0mChecksumURI\u001b[0m\u001b[0;34m,\u001b[0m \u001b[0;34m\"checksum_uri\"\u001b[0m\u001b[0;34m,\u001b[0m \u001b[0;32mFalse\u001b[0m\u001b[0;34m)\u001b[0m\u001b[0;34m\u001b[0m\u001b[0;34m\u001b[0m\u001b[0m\n\u001b[0m\u001b[1;32m    249\u001b[0m             \u001b[0mself\u001b[0m\u001b[0;34m.\u001b[0m\u001b[0m_content_checksum\u001b[0m \u001b[0;34m=\u001b[0m \u001b[0mvalue\u001b[0m\u001b[0;34m\u001b[0m\u001b[0;34m\u001b[0m\u001b[0m\n\u001b[1;32m    250\u001b[0m \u001b[0;34m\u001b[0m\u001b[0m\n",
      "\u001b[0;32m~/e-merlin/em_github/caom2tools/caom2/caom2/caom_util.py\u001b[0m in \u001b[0;36mtype_check\u001b[0;34m(value, value_type, variable, override)\u001b[0m\n\u001b[1;32m    176\u001b[0m                     \u001b[0mvtype\u001b[0m\u001b[0;34m,\u001b[0m\u001b[0;34m\u001b[0m\u001b[0;34m\u001b[0m\u001b[0m\n\u001b[1;32m    177\u001b[0m                     \u001b[0mvariable\u001b[0m\u001b[0;34m,\u001b[0m\u001b[0;34m\u001b[0m\u001b[0;34m\u001b[0m\u001b[0m\n\u001b[0;32m--> 178\u001b[0;31m                     type(value)))\n\u001b[0m\u001b[1;32m    179\u001b[0m     \u001b[0;32mreturn\u001b[0m \u001b[0;32mTrue\u001b[0m\u001b[0;34m\u001b[0m\u001b[0;34m\u001b[0m\u001b[0m\n\u001b[1;32m    180\u001b[0m \u001b[0;34m\u001b[0m\u001b[0m\n",
      "\u001b[0;31mTypeError\u001b[0m: Expected <class 'caom2.common.ChecksumURI'> for checksum_uri, received <class 'str'>"
     ]
    }
   ],
   "source": [
    "create_xml_from_file(ms_file)"
   ]
  },
  {
   "cell_type": "code",
   "execution_count": 5,
   "id": "d71519d9",
   "metadata": {},
   "outputs": [],
   "source": [
    "observation = SimpleObservation('collection', 'observationID')\n",
    "observation.obs_type = 'science'\n",
    "observation.intent = ObservationIntentType.SCIENCE\n",
    "# observation.meta_release = "
   ]
  },
  {
   "cell_type": "code",
   "execution_count": null,
   "id": "776bf22b",
   "metadata": {},
   "outputs": [],
   "source": [
    "observation.target = Target(str(find_mssources(ms_file)))"
   ]
  }
 ],
 "metadata": {
  "kernelspec": {
   "display_name": "emerlin2caom_test",
   "language": "python",
   "name": "test"
  },
  "language_info": {
   "codemirror_mode": {
    "name": "ipython",
    "version": 3
   },
   "file_extension": ".py",
   "mimetype": "text/x-python",
   "name": "python",
   "nbconvert_exporter": "python",
   "pygments_lexer": "ipython3",
   "version": "3.6.13"
  }
 },
 "nbformat": 4,
 "nbformat_minor": 5
}
